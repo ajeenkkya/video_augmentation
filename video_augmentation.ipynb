{
 "cells": [
  {
   "cell_type": "code",
   "execution_count": null,
   "metadata": {},
   "outputs": [],
   "source": [
    "import cv2\n",
    "from PIL import Image, ImageEnhance\n",
    "import numpy as np\n",
    "from numpy import random\n",
    "import os\n",
    "from tqdm import tqdm"
   ]
  },
  {
   "cell_type": "markdown",
   "metadata": {},
   "source": [
    "# Video Loader\n",
    "\n",
    "This loads any video with .mp4 extension(if want to load video of any other extension then channge the fourcc and the textual extension manually). It loads a colour video and changes it to grayscale with dimentions of 512,512."
   ]
  },
  {
   "cell_type": "code",
   "execution_count": null,
   "metadata": {},
   "outputs": [],
   "source": [
    "def vid_loader(path):\n",
    "    frames = []\n",
    "    cam = cv2.VideoCapture(path)\n",
    "    fps = cam.get(cv2.CAP_PROP_FPS)\n",
    "    while(cam.isOpened()): \n",
    "        ret,frame = cam.read()\n",
    "        if ret:\n",
    "            frame = cv2.resize(frame, (512,512))\n",
    "            frame = cv2.cvtColor(frame,cv2.COLOR_BGR2GRAY)\n",
    "            img = Image.fromarray(frame)\n",
    "            img = img.rotate(-90)\n",
    "            frames.append(img)\n",
    "        else: \n",
    "            break\n",
    "    cam.release()\n",
    "    cv2.destroyAllWindows()\n",
    "    num_frames = len(frames)\n",
    "    videodims = frames[0].size\n",
    "    fourcc = cv2.VideoWriter_fourcc(*'mp4v')\n",
    "    return videodims, fourcc, fps, num_frames, frames"
   ]
  },
  {
   "cell_type": "markdown",
   "metadata": {},
   "source": [
    "# Video Writer\n",
    "\n",
    "This function saves the augmented video in .mp4 extension"
   ]
  },
  {
   "cell_type": "code",
   "execution_count": null,
   "metadata": {},
   "outputs": [],
   "source": [
    "def writeVid(op, vid, iteration, fps):\n",
    "    video = cv2.VideoWriter(\"augmented/\"+str(lbl)+\"/\"+str(vidd)+\"_\"+str(op)+str(iteration)+\".mp4\",fourcc, fps, videodims, 0)\n",
    "    #print(\"creating \"+str(op)+str(iteration)+\".mp4\")\n",
    "    for i in range(0, num_frames):\n",
    "        video.write(np.array(vid[iteration][i]))\n",
    "    video.release()"
   ]
  },
  {
   "cell_type": "code",
   "execution_count": null,
   "metadata": {},
   "outputs": [],
   "source": [
    "# Here n are the number of videos to be produced\n",
    "def aug_rotate(n, degree):\n",
    "    rotated = []\n",
    "    for i in range(n):\n",
    "        angle = random.uniform(-degree, degree)\n",
    "        rot = [img.rotate(angle) for img in vid]\n",
    "        rotated.append(rot)\n",
    "        writeVid(\"rotate\", rotated, i, fps)\n",
    "\n",
    "def aug_brightness(n, value):\n",
    "    bright = []\n",
    "    for i in range(n):\n",
    "        nits = random.uniform(0.5, value)\n",
    "        bri = [ImageEnhance.Brightness(img).enhance(nits) for img in vid]\n",
    "        bright.append(bri)\n",
    "        writeVid(\"brightness\", bright, i, fps)\n",
    "\n",
    "def aug_contrast(n, value):\n",
    "    contrast = []\n",
    "    for i in range(n):\n",
    "        nits = random.uniform(1, value)\n",
    "        cont = [ImageEnhance.Contrast(img).enhance(nits) for img in vid]\n",
    "        contrast.append(cont)\n",
    "        writeVid(\"contrast\", contrast, i, fps)\n",
    "\n",
    "def aug_zoom(n, zoom_factor):\n",
    "    zoom_list = []\n",
    "    for i in range(n):\n",
    "        w, h = videodims[0], videodims[1]\n",
    "        x = random.uniform(w*0.25, w*0.75)\n",
    "        y = random.uniform(h*0.25, h*0.75)\n",
    "        zoom = random.uniform(0.25,zoom_factor)\n",
    "        zoom2 = zoom * 2\n",
    "        zoo = [img.crop((x - w / zoom2, y - h / zoom2, x + w / zoom2, y + h / zoom2)).resize((w,h), Image.LANCZOS) for img in vid]\n",
    "        zoom_list.append(zoo)\n",
    "        writeVid(\"zoom\", zoom_list, i, fps)\n",
    "\n",
    "def aug_upsample(n, ups):\n",
    "    op = \"upsample\"\n",
    "    for i in range(n):\n",
    "        nits = random.uniform(1, ups)\n",
    "        fps_1 = fps*nits\n",
    "        video = cv2.VideoWriter(\"augmented/\"+str(lbl)+\"/\"+str(vidd)+\"_\"+str(op)+str(i)+\".mp4\",fourcc, fps_1, videodims, 0)\n",
    "        #print(\"creating upsample\"+str(i)+\".mp4\")\n",
    "        for i in range(0, num_frames):\n",
    "            video.write(np.array(vid[i]))\n",
    "        video.release()\n",
    "\n",
    "def aug_downsample(n, dwns):\n",
    "    op = \"downsample\"\n",
    "    for i in range(n):\n",
    "        nits = random.uniform(dwns, 1)\n",
    "        fps_1 = fps*nits\n",
    "        video = cv2.VideoWriter(\"augmented/\"+str(lbl)+\"/\"+str(vidd)+\"_\"+str(op)+str(i)+\".mp4\",fourcc, fps_1, videodims, 0)\n",
    "        #print(\"creating downsample\"+str(i)+\".mp4\")\n",
    "        for i in range(0, num_frames):\n",
    "            video.write(np.array(vid[i]))\n",
    "        video.release()\n",
    "        "
   ]
  },
  {
   "cell_type": "code",
   "execution_count": null,
   "metadata": {},
   "outputs": [],
   "source": [
    "datadir = \"\"\n",
    "categories = {0:\"sign0\",1:\"sign1\"}\n",
    "label = []\n",
    "for category in tqdm(categories, desc=\"Augmenting videos\"):\n",
    "    path = os.path.join(datadir,categories[category])\n",
    "    lbl = categories[category]\n",
    "    label.append(lbl)\n",
    "    #print(lbl)\n",
    "    for vids in os.listdir(path):\n",
    "        vidd = vids.split('.')[0]\n",
    "        #print(vidd)\n",
    "        videodims, fourcc, fps, num_frames, vid = vid_loader(os.path.join(path,vids))\n",
    "        aug_brightness(5, 10)\n",
    "        aug_contrast(5, 3) #value should be greater than 1\n",
    "        aug_rotate(5, 20)\n",
    "        aug_zoom(5, 1.3) #if value greater than 1(zoom-in and zoom-out) else zoom-out\n",
    "        aug_upsample(5, 2) #value should be greater than 1\n",
    "        aug_downsample(5, 0.1) #value should be less than 1(in the lower end)"
   ]
  }
 ],
 "metadata": {
  "kernelspec": {
   "display_name": "Python 3",
   "language": "python",
   "name": "python3"
  },
  "language_info": {
   "codemirror_mode": {
    "name": "ipython",
    "version": 3
   },
   "file_extension": ".py",
   "mimetype": "text/x-python",
   "name": "python",
   "nbconvert_exporter": "python",
   "pygments_lexer": "ipython3",
   "version": "3.7.3"
  }
 },
 "nbformat": 4,
 "nbformat_minor": 2
}
